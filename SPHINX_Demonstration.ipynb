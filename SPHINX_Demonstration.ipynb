{
 "cells": [
  {
   "cell_type": "markdown",
   "metadata": {},
   "source": [
    "Author: Devin D. Whitten\n",
    "Date:   November 11, 2018\n",
    "Institute: University of Notre Dame\n",
    "Email: dwhitten@nd.edu"
   ]
  },
  {
   "cell_type": "code",
   "execution_count": 2,
   "metadata": {},
   "outputs": [
    {
     "name": "stdout",
     "output_type": "stream",
     "text": [
      "/bin/sh: -c: line 0: syntax error near unexpected token `Images/SPHINX_logo_v3.png'\r\n",
      "/bin/sh: -c: line 0: `[GitHub_Logo](Images/SPHINX_logo_v3.png)'\r\n"
     ]
    }
   ],
   "source": [
    " ![GitHub_Logo](Images/SPHINX_logo_v3.png)"
   ]
  },
  {
   "cell_type": "markdown",
   "metadata": {},
   "source": [
    "Please refer to Whitten et al 2018 for explanation of key functionality in SPHINX, as well as the README.md file. \n",
    "This is a basic demonstration of the temperature and metallicity determination routines, and use of SPHINX core functions."
   ]
  },
  {
   "cell_type": "code",
   "execution_count": 8,
   "metadata": {},
   "outputs": [],
   "source": [
    "import pandas as pd\n",
    "import numpy as np\n",
    "import param as param\n",
    "import sys, os\n",
    "sys.path.append(\"interface\")\n",
    "\n",
    "import train_fns, net_functions, network_array, io_functions"
   ]
  },
  {
   "cell_type": "markdown",
   "metadata": {},
   "source": [
    "## Temperature Determination Routines"
   ]
  },
  {
   "cell_type": "code",
   "execution_count": 9,
   "metadata": {},
   "outputs": [
    {
     "name": "stdout",
     "output_type": "stream",
     "text": [
      "... Reading database:   datasets/IDR_201803_testing_native_feh.csv\n",
      "Initial Network Size of:  TARGET 4387\n",
      "... Reading database:   datasets/SEGUE_calibrated_catalog_GOLD.csv.gz\n",
      "Initial Network Size of:  SEGUE 302604\n"
     ]
    }
   ],
   "source": [
    "### Load target (science) and training catalogs\n",
    "\n",
    "target = train_fns.Dataset(path=param.params['target_path'], \n",
    "                            variable='TEFF',\n",
    "                            params=param.params, \n",
    "                            mode=\"TARGET\")\n",
    "\n",
    "    \n",
    "training = train_fns.Dataset(path=param.params['segue_path'], \n",
    "                             variable=\"TEFF\",\n",
    "                             params=param.params, \n",
    "                             mode=\"SEGUE\")"
   ]
  },
  {
   "cell_type": "code",
   "execution_count": 11,
   "metadata": {
    "hide_input": true
   },
   "outputs": [
    {
     "name": "stdout",
     "output_type": "stream",
     "text": [
      "---------------------------------------------------------------------------------------------\n",
      "...format_names()\n",
      "Replacing:   ['MAG_6_gSDSS', 'MAG_6_rSDSS', 'MAG_6_iSDSS', 'MAG_6_J0395', 'MAG_6_J0410', 'MAG_6_J0430', 'MAG_6_J0515', 'MAG_6_J0660', 'MAG_6_J0861']\n",
      "With:        ['gSDSS', 'rSDSS', 'iSDSS', 'F395', 'F410', 'F430', 'F515', 'F660', 'F861']\n",
      "format_colors()\n",
      "---------------------------------------------------------------------------------------------\n",
      "TEFF  input statistics: \n",
      "\t gSDSS_rSDSS  :  0.349 0.101\n",
      "\t gSDSS_iSDSS  :  0.473 0.138\n",
      "\t gSDSS_F395  :  -0.528 0.285\n",
      "\t gSDSS_F410  :  -0.278 -0.167\n",
      "\t gSDSS_F430  :  -0.194 0.117\n",
      "\t gSDSS_F515  :  0.118 -0.130\n",
      "\t gSDSS_F660  :  0.367 0.129\n",
      "\t gSDSS_F861  :  0.517 0.199\n",
      "\t rSDSS_iSDSS  :  0.135 0.072\n",
      "\t rSDSS_F395  :  -0.828 0.300\n",
      "\t rSDSS_F410  :  -13.245 1.729\n",
      "\t rSDSS_F430  :  -0.522 0.160\n",
      "\t rSDSS_F515  :  -0.249 -0.152\n",
      "\t rSDSS_F660  :  0.023 0.053\n",
      "\t rSDSS_F861  :  0.168 0.128\n",
      "\t iSDSS_F395  :  -0.986 0.368\n",
      "\t iSDSS_F410  :  -0.711 0.194\n",
      "\t iSDSS_F430  :  -0.641 0.190\n",
      "\t iSDSS_F515  :  -0.350 0.124\n",
      "\t iSDSS_F660  :  -0.116 0.056\n",
      "\t iSDSS_F861  :  0.033 0.069\n",
      "\t F395_F410  :  0.252 0.158\n",
      "\t F395_F430  :  0.341 0.177\n",
      "\t F395_F515  :  0.627 0.231\n",
      "\t F395_F660  :  0.868 0.358\n",
      "\t F395_F861  :  0.980 0.324\n",
      "\t F410_F430  :  0.078 0.089\n",
      "\t F410_F515  :  0.398 0.156\n",
      "\t F410_F660  :  0.626 0.233\n",
      "\t F410_F861  :  0.755 0.262\n",
      "\t F430_F515  :  0.323 0.143\n",
      "\t F430_F660  :  0.537 0.181\n",
      "\t F430_F861  :  0.685 0.257\n",
      "\t F515_F660  :  0.243 0.130\n",
      "\t F515_F861  :  0.382 0.181\n",
      "\t F660_F861  :  0.155 0.096\n"
     ]
    }
   ],
   "source": [
    "### Format input columns and build colors\n",
    "target.format_names()\n",
    "target.format_colors()\n",
    "target.get_input_stats(inputs=\"colors\")"
   ]
  },
  {
   "cell_type": "code",
   "execution_count": 12,
   "metadata": {},
   "outputs": [
    {
     "name": "stdout",
     "output_type": "stream",
     "text": [
      "... Processing  TEFF  training set\n",
      "remove_discrepant_variables():   75\n",
      "I've not implemented this feature\n",
      "SNR_threshold\n",
      "Stars removed:   155809\n",
      "---------------------------------------------------------------------------------------------\n",
      "...format_names()\n",
      "---------------------------------------------------------------------------------------------\n",
      "faint_bright_limit()\n",
      "custom columns:      Index(['Unnamed: 0', 'SPSPEC', 'SURVEY', 'RA', 'DEC', 'TEFF', 'TEFF_ERR',\n",
      "       'TEFF_IRFM', 'FEH_ADOP', 'FEH_ADOP_ERR', 'gSDSS', 'rSDSS', 'iSDSS',\n",
      "       'zMag', 'F395', 'F410', 'F430', 'F515', 'F660', 'F861', 'gMag_Sigma',\n",
      "       'rMag_Sigma', 'iMag_Sigma', 'zMag_Sigma', 'F395Mag_Sigma',\n",
      "       'F410Mag_Sigma', 'F430Mag_Sigma', 'F515Mag_Sigma', 'F660Mag_Sigma',\n",
      "       'F861Mag_Sigma', 'FEH', 'FEH_ERR', 'CFE_COR', 'SNR', 'SPHINX_ID'],\n",
      "      dtype='object')\n",
      "\t minimum in: gSDSS 9.714089152244656\n",
      "\t Current length after: gSDSS 100056\n",
      "\t minimum in: rSDSS 12.2813568217552\n",
      "\t Current length after: rSDSS 99598\n",
      "\t minimum in: iSDSS 12.50663355429038\n",
      "\t Current length after: iSDSS 99045\n",
      "\t minimum in: F395 14.139723674890597\n",
      "\t Current length after: F395 63280\n",
      "\t minimum in: F410 13.989942479780414\n",
      "\t Current length after: F410 63279\n",
      "\t minimum in: F430 14.140356172396428\n",
      "\t Current length after: F430 63277\n",
      "\t minimum in: F515 14.018270044825394\n",
      "\t Current length after: F515 63277\n",
      "\t minimum in: F660 14.071754439366446\n",
      "\t Current length after: F660 63249\n",
      "\t minimum in: F861 13.636258440390474\n",
      "\t Current length after: F861 62945\n",
      "---------------------------------------------------------------------------------------------\n",
      "...error_reject()\n",
      "\tRejection with max err:   0.1\n",
      "\tRejected:    9936\n",
      "format_colors()\n",
      "...set_bounds()\n",
      "pre-scale input stats\n",
      "---------------------------------------------------------------------------------------------\n",
      "TEFF  input statistics: \n",
      "\t gSDSS_rSDSS  :  0.338 0.080\n",
      "\t gSDSS_iSDSS  :  0.467 0.115\n",
      "\t gSDSS_F395  :  -0.522 0.116\n",
      "\t gSDSS_F410  :  -0.266 0.062\n",
      "\t gSDSS_F430  :  -0.211 0.046\n",
      "\t gSDSS_F515  :  0.114 0.037\n",
      "\t gSDSS_F660  :  0.359 0.095\n",
      "\t gSDSS_F861  :  0.490 0.133\n",
      "\t rSDSS_iSDSS  :  0.130 0.039\n",
      "\t rSDSS_F395  :  -0.863 0.197\n",
      "\t rSDSS_F410  :  -0.606 0.139\n",
      "\t rSDSS_F430  :  -0.551 0.125\n",
      "\t rSDSS_F515  :  -0.223 0.049\n",
      "\t rSDSS_F660  :  0.021 0.018\n",
      "\t rSDSS_F861  :  0.153 0.060\n",
      "\t iSDSS_F395  :  -0.997 0.223\n",
      "\t iSDSS_F410  :  -0.736 0.169\n",
      "\t iSDSS_F430  :  -0.681 0.155\n",
      "\t iSDSS_F515  :  -0.353 0.086\n",
      "\t iSDSS_F660  :  -0.108 0.025\n",
      "\t iSDSS_F861  :  0.023 0.024\n",
      "\t F395_F410  :  0.258 0.055\n",
      "\t F395_F430  :  0.312 0.074\n",
      "\t F395_F515  :  0.637 0.153\n",
      "\t F395_F660  :  0.888 0.208\n",
      "\t F395_F861  :  1.020 0.235\n",
      "\t F410_F430  :  0.051 0.026\n",
      "\t F410_F515  :  0.380 0.098\n",
      "\t F410_F660  :  0.627 0.152\n",
      "\t F410_F861  :  0.757 0.182\n",
      "\t F430_F515  :  0.326 0.082\n",
      "\t F430_F660  :  0.573 0.138\n",
      "\t F430_F861  :  0.703 0.170\n",
      "\t F515_F660  :  0.244 0.064\n",
      "\t F515_F861  :  0.376 0.105\n",
      "\t F660_F861  :  0.131 0.047\n",
      "\tGenerating scale frame for self\n",
      "---------------------------------------------------------------------------------------------\n",
      "...gen_scale_frame()\n",
      "---------------------------------------------------------------------------------------------\n",
      "... uniform_sample()\n",
      "---------------------------------------------------------------------------------------------\n",
      "...scale_photometry()\n",
      "---------------------------------------------------------------------------------------------\n",
      "TEFF  input statistics: \n",
      "\t gSDSS_rSDSS  :  -1.556 2.636\n",
      "\t gSDSS_iSDSS  :  -1.650 2.854\n",
      "\t gSDSS_F395  :  0.740 1.121\n",
      "\t gSDSS_F410  :  0.927 1.709\n",
      "\t gSDSS_F430  :  0.982 1.482\n",
      "\t gSDSS_F515  :  -1.120 2.039\n",
      "\t gSDSS_F660  :  -1.698 2.898\n",
      "\t gSDSS_F861  :  -1.613 2.833\n",
      "\t rSDSS_iSDSS  :  -1.691 2.968\n",
      "\t rSDSS_F395  :  1.112 1.716\n",
      "\t rSDSS_F410  :  1.329 2.263\n",
      "\t rSDSS_F430  :  1.374 2.248\n",
      "\t rSDSS_F515  :  1.677 2.827\n",
      "\t rSDSS_F660  :  -2.010 3.639\n",
      "\t rSDSS_F861  :  -1.492 2.726\n",
      "\t iSDSS_F395  :  1.300 2.049\n",
      "\t iSDSS_F410  :  1.501 2.545\n",
      "\t iSDSS_F430  :  1.528 2.565\n",
      "\t iSDSS_F515  :  1.709 2.963\n",
      "\t iSDSS_F660  :  1.166 2.142\n",
      "\t iSDSS_F861  :  -0.947 1.987\n",
      "\t F395_F410  :  -0.363 0.797\n",
      "\t F395_F430  :  -0.488 1.036\n",
      "\t F395_F515  :  -0.841 1.346\n",
      "\t F395_F660  :  -1.247 1.949\n",
      "\t F395_F861  :  -1.338 2.152\n",
      "\t F410_F430  :  -0.504 1.340\n",
      "\t F410_F515  :  -1.014 1.829\n",
      "\t F410_F660  :  -1.469 2.491\n",
      "\t F410_F861  :  -1.514 2.623\n",
      "\t F430_F515  :  -1.059 1.772\n",
      "\t F430_F660  :  -1.512 2.524\n",
      "\t F430_F861  :  -1.545 2.621\n",
      "\t F515_F660  :  -1.822 3.165\n",
      "\t F515_F861  :  -1.630 2.876\n",
      "\t F660_F861  :  -1.124 2.127\n",
      "---------------------------------------------------------------------------------------------\n",
      "...gen_interp_frame()\n",
      "\t MAX TEFF:   7999\n",
      "\t MIN TEFF:   5502\n",
      "\t MAX FEH:   -0.039\n",
      "\t MIN FEH:   -3.965\n",
      "---------------------------------------------------------------------------------------------\n",
      "...scale_variable()\n",
      "\t TEFF  mean:  6751.0\n",
      "\t TEFF  std:   2252.0\n"
     ]
    }
   ],
   "source": [
    "### Process training catalog\n",
    "### Important to note that if you want to scale the \n",
    "### training set based on target set distributions, \n",
    "### set scale_frame = target.scale_frame.\n",
    "\n",
    "training.process(scale_frame=\"self\", \n",
    "                 threshold=75, \n",
    "                 SNR_limit=25, \n",
    "                 normal_columns=None,\n",
    "                 set_bounds = True, \n",
    "                 bin_number=20, \n",
    "                 bin_size=200,\n",
    "                 verbose=True, \n",
    "                 show_plot=True)\n",
    "\n"
   ]
  },
  {
   "cell_type": "code",
   "execution_count": 13,
   "metadata": {},
   "outputs": [
    {
     "name": "stdout",
     "output_type": "stream",
     "text": [
      "---------------------------------------------------------------------------------------------\n",
      "...scale_photometry()\n"
     ]
    }
   ],
   "source": [
    "target.set_scale_frame(training.scale_frame)\n",
    "target.scale_photometry()"
   ]
  },
  {
   "cell_type": "markdown",
   "metadata": {},
   "source": [
    "### Build Network Array"
   ]
  },
  {
   "cell_type": "code",
   "execution_count": 16,
   "metadata": {},
   "outputs": [
    {
     "name": "stdout",
     "output_type": "stream",
     "text": [
      "Network input_type:   colors\n",
      "['gSDSS_rSDSS', 'gSDSS_iSDSS', 'gSDSS_F395', 'gSDSS_F410', 'gSDSS_F430', 'gSDSS_F515', 'gSDSS_F660', 'gSDSS_F861', 'rSDSS_iSDSS', 'rSDSS_F395', 'rSDSS_F410', 'rSDSS_F430', 'rSDSS_F515', 'rSDSS_F660', 'rSDSS_F861', 'iSDSS_F395', 'iSDSS_F410', 'iSDSS_F430', 'iSDSS_F515', 'iSDSS_F660', 'iSDSS_F861', 'F395_F410', 'F395_F430', 'F395_F515', 'F395_F660', 'F395_F861', 'F410_F430', 'F410_F515', 'F410_F660', 'F410_F861', 'F430_F515', 'F430_F660', 'F430_F861', 'F515_F660', 'F515_F861', 'F660_F861']\n",
      "...Generating input combinations\n",
      "30260340  of given input type\n",
      "... Generating TEFF network array\n",
      "\tpre-assert band:   30260340\n",
      "... Asserting:  F410\n",
      "\tpre-assert band:   27152235\n",
      "... Rejecting the following band:   F430\n",
      "\t pre-assert colors length:    2904615\n",
      "\tpre-color rejection combinations:   2904615\n",
      "2904615  total input combinations\n"
     ]
    }
   ],
   "source": [
    "### Initialize    \n",
    "Network_Array = network_array.Network_Array(training_set = training, \n",
    "                                             interp_frame=training.interp_frame,\n",
    "                                             target_variable = \"TEFF\",\n",
    "                                             scale_frame = training.scale_frame,\n",
    "                                             param_file = param,\n",
    "                                             input_type=\"colors\",\n",
    "                                             array_size=param.params['array_size'])\n",
    "\n",
    "### Should really be generate_inputs()\n",
    "Network_Array.set_input_type()\n",
    "\n",
    "### Should really be generate_arrays()\n",
    "Network_Array.generate_inputs(assert_band=[\"F410\"], \n",
    "                              reject_band=['F430'])"
   ]
  },
  {
   "cell_type": "markdown",
   "metadata": {},
   "source": [
    "### Train network array and evaluate performance"
   ]
  },
  {
   "cell_type": "code",
   "execution_count": null,
   "metadata": {},
   "outputs": [],
   "source": [
    "### Basic training function with iterations of outlier removal.\n",
    "Network_Array.train(iterations=2)\n",
    "Network_Array.eval_performance()\n",
    "Network_Array.write_network_performance()\n",
    "\n",
    "### Pick the top networks and exclude the rest.\n",
    "Network_Array.skim_networks(select=25)\n"
   ]
  },
  {
   "cell_type": "markdown",
   "metadata": {},
   "source": [
    "### Science Prediction and output"
   ]
  },
  {
   "cell_type": "code",
   "execution_count": null,
   "metadata": {},
   "outputs": [],
   "source": [
    "Network_Array.prediction(target, flag_thing = False)\n",
    " \n",
    "Network_Array.write_training_results()\n",
    "target.merge_master(array_size=param.params['array_size'])\n",
    " \n",
    "Network_Array.write_training_results()\n",
    "Network_Array.training_plots()\n",
    "target.merge_master(array_size=param.params['array_size'])\n",
    "target.save()"
   ]
  },
  {
   "cell_type": "markdown",
   "metadata": {},
   "source": [
    "## Metallicity Determination Routines"
   ]
  },
  {
   "cell_type": "markdown",
   "metadata": {},
   "source": [
    "Basic demonstration of routines for metallicity determination routines. Essentially the same as temperature demonstration, but might as well demonstrate anyway."
   ]
  },
  {
   "cell_type": "code",
   "execution_count": null,
   "metadata": {},
   "outputs": [],
   "source": [
    "### Load target (science) and training catalogs\n",
    "target = train_fns.Dataset(path=param.params['target_path'], \n",
    "                           variable='FEH',\n",
    "                           params=param.params, mode=\"TARGET\")\n",
    "\n",
    "training = train_fns.Dataset(path=param.params['segue_path'], \n",
    "                             variable=\"FEH\",\n",
    "                             params=param.params, mode=\"SEGUE\")"
   ]
  },
  {
   "cell_type": "code",
   "execution_count": null,
   "metadata": {},
   "outputs": [],
   "source": []
  }
 ],
 "metadata": {
  "hide_input": false,
  "kernelspec": {
   "display_name": "Python 3",
   "language": "python",
   "name": "python3"
  },
  "language_info": {
   "codemirror_mode": {
    "name": "ipython",
    "version": 3
   },
   "file_extension": ".py",
   "mimetype": "text/x-python",
   "name": "python",
   "nbconvert_exporter": "python",
   "pygments_lexer": "ipython3",
   "version": "3.6.7"
  },
  "latex_envs": {
   "bibliofile": "biblio.bib",
   "cite_by": "apalike",
   "current_citInitial": 1,
   "eqLabelWithNumbers": true,
   "eqNumInitial": 0
  }
 },
 "nbformat": 4,
 "nbformat_minor": 2
}
